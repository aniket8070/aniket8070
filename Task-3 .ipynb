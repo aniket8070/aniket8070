{
 "cells": [
  {
   "cell_type": "markdown",
   "id": "8b1bb52a-09f3-4a48-be64-a300367cb488",
   "metadata": {},
   "source": [
    "## Section 1: if, if-else, if-elif-else"
   ]
  },
  {
   "cell_type": "markdown",
   "id": "84364caa-bc94-4e86-a11d-51b18707260e",
   "metadata": {},
   "source": [
    "#### Q1) Write a Python program to check if a number is positive using if statement."
   ]
  },
  {
   "cell_type": "code",
   "execution_count": 69,
   "id": "758e298d-2fe8-4144-aa86-3abbe7913a30",
   "metadata": {},
   "outputs": [
    {
     "name": "stdin",
     "output_type": "stream",
     "text": [
      "Enter Number : 5\n"
     ]
    },
    {
     "name": "stdout",
     "output_type": "stream",
     "text": [
      "Number is Positive\n"
     ]
    }
   ],
   "source": [
    "number=int(input(\"Enter Number :\"))\n",
    "if number > 0:\n",
    "    print (\"Number is Positive\")"
   ]
  },
  {
   "cell_type": "markdown",
   "id": "38b947a9-f53b-4a40-b7d0-a0d96cfb3b45",
   "metadata": {},
   "source": [
    "#### Q2) Write a program to check whether a person is eligible to vote using if-else."
   ]
  },
  {
   "cell_type": "code",
   "execution_count": 77,
   "id": "6c709855-13f5-401b-8a56-c3a1f89b4104",
   "metadata": {},
   "outputs": [
    {
     "name": "stdin",
     "output_type": "stream",
     "text": [
      "Enter Age: 54\n"
     ]
    },
    {
     "name": "stdout",
     "output_type": "stream",
     "text": [
      "person is eligible to vote\n"
     ]
    }
   ],
   "source": [
    "age=int(input(\"Enter Age:\"))\n",
    "if age > 18:\n",
    "     print (\"person is eligible to vote\")\n",
    "else:\n",
    "    print(\"person is not eligible for vote \")"
   ]
  },
  {
   "cell_type": "markdown",
   "id": "b9d0bc07-cff7-4346-b315-b32b02a3cff9",
   "metadata": {},
   "source": [
    "#### Q3) Check whether a number is positive, negative, or zero using if-elif-else."
   ]
  },
  {
   "cell_type": "code",
   "execution_count": 79,
   "id": "50867673-960a-4c86-ab60-46260439ed56",
   "metadata": {},
   "outputs": [
    {
     "name": "stdin",
     "output_type": "stream",
     "text": [
      "Enter a number:  4\n"
     ]
    },
    {
     "name": "stdout",
     "output_type": "stream",
     "text": [
      "The number is positive\n"
     ]
    }
   ],
   "source": [
    "num = int(input(\"Enter a number: \"))\n",
    "if num > 0:\n",
    "    print(\"The number is positive\")\n",
    "elif num < 0:\n",
    "    print(\"The number is negative\")\n",
    "else:\n",
    "    print(\"The number is zero\")"
   ]
  },
  {
   "cell_type": "markdown",
   "id": "0a473559-ca4e-4308-b1d1-af9fe350f567",
   "metadata": {},
   "source": [
    "#### Q4) Take input marks and print \"Pass\" if marks >= 35, otherwise \"Fail\".\n"
   ]
  },
  {
   "cell_type": "code",
   "execution_count": 81,
   "id": "d45102ee-756b-46ba-ac07-5479d2c868c2",
   "metadata": {},
   "outputs": [
    {
     "name": "stdin",
     "output_type": "stream",
     "text": [
      "Enter your mark: 85\n"
     ]
    },
    {
     "name": "stdout",
     "output_type": "stream",
     "text": [
      "You are Pass\n"
     ]
    }
   ],
   "source": [
    "marks=int(input(\"Enter your mark:\"))\n",
    "if marks >= 35:\n",
    "    print(\"You are Pass\")\n",
    "else:\n",
    "    print(\"You are Fail\")\n"
   ]
  },
  {
   "cell_type": "markdown",
   "id": "e1d06c28-dff3-4b12-89f6-b0b53936f356",
   "metadata": {},
   "source": [
    "#### Q5) Write a program that takes a number and checks:\n",
    "\n",
    "If divisible by 3 → print \"Divisible by 3\"\n",
    "\n",
    "Else if divisible by 5 → print \"Divisible by 5\"\n",
    "\n",
    "Else → print \"Not divisible by 3 or 5\"\n"
   ]
  },
  {
   "cell_type": "code",
   "execution_count": 83,
   "id": "04f2cb85-d253-4a6c-a1bd-9b744e4a77e5",
   "metadata": {},
   "outputs": [
    {
     "name": "stdin",
     "output_type": "stream",
     "text": [
      "Enter a number:  5\n"
     ]
    },
    {
     "name": "stdout",
     "output_type": "stream",
     "text": [
      "Divisible by 5\n"
     ]
    }
   ],
   "source": [
    "num = int(input(\"Enter a number: \"))\n",
    "if num % 3 == 0:\n",
    "    print(\"Divisible by 3\")\n",
    "elif num % 5 == 0:\n",
    "    print(\"Divisible by 5\")\n",
    "else:\n",
    "    print(\"Not divisible by 3 or 5\")"
   ]
  },
  {
   "cell_type": "markdown",
   "id": "6f03dd14-d210-4404-bba3-118649976b39",
   "metadata": {},
   "source": [
    "#### Own Questions"
   ]
  },
  {
   "cell_type": "markdown",
   "id": "abdc2fd2-f54d-45a0-96c2-5b03090ea036",
   "metadata": {},
   "source": [
    "#### Question 1: Check if a Number is Positive"
   ]
  },
  {
   "cell_type": "code",
   "execution_count": 7,
   "id": "fb4836f2-dfde-4fad-a61a-d0aad8faec41",
   "metadata": {},
   "outputs": [
    {
     "name": "stdin",
     "output_type": "stream",
     "text": [
      "Enter a number:  8\n"
     ]
    },
    {
     "name": "stdout",
     "output_type": "stream",
     "text": [
      "Positive\n"
     ]
    }
   ],
   "source": [
    "num = int(input(\"Enter a number: \"))\n",
    "if num > 0:\n",
    "    print(\"Positive\")"
   ]
  },
  {
   "cell_type": "markdown",
   "id": "d570ffb0-3673-4277-8414-60fb328e7e40",
   "metadata": {},
   "source": [
    "#### Question 2: Determine if a Number is Even or Odd"
   ]
  },
  {
   "cell_type": "code",
   "execution_count": 12,
   "id": "476416d7-1b2e-45fe-801c-6f23b582c77f",
   "metadata": {},
   "outputs": [
    {
     "name": "stdin",
     "output_type": "stream",
     "text": [
      "Enter an integer:  4\n"
     ]
    },
    {
     "name": "stdout",
     "output_type": "stream",
     "text": [
      "Even\n"
     ]
    }
   ],
   "source": [
    "num = int(input(\"Enter an integer: \"))\n",
    "if num % 2 == 0:\n",
    "    print(\"Even\")\n",
    "else:\n",
    "    print(\"Odd\")"
   ]
  },
  {
   "cell_type": "markdown",
   "id": "889532d7-1546-4f02-a752-2feed02d41e7",
   "metadata": {},
   "source": [
    "#### Question 3: Assign a Grade Based on a Marks"
   ]
  },
  {
   "cell_type": "code",
   "execution_count": 16,
   "id": "cfbd8f82-84a9-464e-af6d-3f465ebcf164",
   "metadata": {},
   "outputs": [
    {
     "name": "stdin",
     "output_type": "stream",
     "text": [
      "Enter a score (0-100):  45\n"
     ]
    },
    {
     "name": "stdout",
     "output_type": "stream",
     "text": [
      "Your grade is: F\n"
     ]
    }
   ],
   "source": [
    "Marks = int(input(\"Enter a score (0-100): \"))\n",
    "if Marks >= 90:\n",
    "    grade = \"A\"\n",
    "elif Marks >= 80:\n",
    "    grade = \"B\"\n",
    "elif Marks >= 70:\n",
    "    grade = \"C\"\n",
    "elif Marks >= 60:\n",
    "    grade = \"D\"\n",
    "else:\n",
    "    grade = \"F\"\n",
    "print(f\"Your grade is: {grade}\")"
   ]
  },
  {
   "cell_type": "markdown",
   "id": "90be5a82-170e-4661-b92d-f4cda9783919",
   "metadata": {},
   "source": [
    "#### Question 5: Determine the Type of Triangle"
   ]
  },
  {
   "cell_type": "code",
   "execution_count": 23,
   "id": "a9f11df3-295a-451d-b8e2-a278d2aefba2",
   "metadata": {},
   "outputs": [
    {
     "name": "stdin",
     "output_type": "stream",
     "text": [
      "Enter first side length:  10\n",
      "Enter second side length:  10\n",
      "Enter third side length:  10\n"
     ]
    },
    {
     "name": "stdout",
     "output_type": "stream",
     "text": [
      "Equilateral triangle\n"
     ]
    }
   ],
   "source": [
    "a = int(input(\"Enter first side length: \"))\n",
    "b = int(input(\"Enter second side length: \"))\n",
    "c = int(input(\"Enter third side length: \"))\n",
    "\n",
    "if a == b and b == c:\n",
    "    print(\"Equilateral triangle\")\n",
    "elif a == b or b == c or a == c:\n",
    "    print(\"Isosceles triangle\")\n",
    "else:\n",
    "    print(\"Scalene triangle\")"
   ]
  },
  {
   "cell_type": "markdown",
   "id": "a7f99517-f114-4f00-94b3-623e1a638eac",
   "metadata": {},
   "source": [
    "##  Section 2: for Loop"
   ]
  },
  {
   "cell_type": "markdown",
   "id": "cb564464-a39c-4c24-ac92-b3906d9de687",
   "metadata": {},
   "source": [
    "#### Q1) Print numbers from 1 to 10 using a for loop"
   ]
  },
  {
   "cell_type": "code",
   "execution_count": 85,
   "id": "c66464c1-b0c5-4fdf-becd-dd55f8a7db6d",
   "metadata": {},
   "outputs": [
    {
     "name": "stdout",
     "output_type": "stream",
     "text": [
      "1\n",
      "2\n",
      "3\n",
      "4\n",
      "5\n",
      "6\n",
      "7\n",
      "8\n",
      "9\n",
      "10\n"
     ]
    }
   ],
   "source": [
    "for i in range(1, 11):\n",
    "    print(i)"
   ]
  },
  {
   "cell_type": "markdown",
   "id": "8b69b414-b812-46ad-b745-1e9caacbdf8e",
   "metadata": {},
   "source": [
    "#### Q2) Print all even numbers from 1 to 50 using for.\n"
   ]
  },
  {
   "cell_type": "code",
   "execution_count": 102,
   "id": "a5560a29-5b62-4d1a-a465-dd1ee261985a",
   "metadata": {},
   "outputs": [
    {
     "name": "stdout",
     "output_type": "stream",
     "text": [
      "2\n",
      "4\n",
      "6\n",
      "8\n",
      "10\n",
      "12\n",
      "14\n",
      "16\n",
      "18\n",
      "20\n",
      "22\n",
      "24\n",
      "26\n",
      "28\n",
      "30\n",
      "32\n",
      "34\n",
      "36\n",
      "38\n",
      "40\n",
      "42\n",
      "44\n",
      "46\n",
      "48\n"
     ]
    }
   ],
   "source": [
    "for i in range(2, 50,2):\n",
    "    print(i)"
   ]
  },
  {
   "cell_type": "markdown",
   "id": "a1f0d243-3881-474e-9e77-d6a20e55b14c",
   "metadata": {},
   "source": [
    "#### Q3) Print the multiplication table of a given number."
   ]
  },
  {
   "cell_type": "code",
   "execution_count": 105,
   "id": "f33dda55-77ad-4365-84f4-e8e2128bb647",
   "metadata": {},
   "outputs": [
    {
     "name": "stdin",
     "output_type": "stream",
     "text": [
      "Enter a number:  40\n"
     ]
    },
    {
     "name": "stdout",
     "output_type": "stream",
     "text": [
      "40 x 1 = 40\n",
      "40 x 2 = 80\n",
      "40 x 3 = 120\n",
      "40 x 4 = 160\n",
      "40 x 5 = 200\n",
      "40 x 6 = 240\n",
      "40 x 7 = 280\n",
      "40 x 8 = 320\n",
      "40 x 9 = 360\n",
      "40 x 10 = 400\n"
     ]
    }
   ],
   "source": [
    "num = int(input(\"Enter a number: \"))\n",
    "for i in range(1, 11):\n",
    "    print(f\"{num} x {i} = {num * i}\")"
   ]
  },
  {
   "cell_type": "markdown",
   "id": "25c2d550-099d-4f71-8d6f-26a317d8b4fc",
   "metadata": {},
   "source": [
    "#### Q4) Find the factorial of a number using a for loop"
   ]
  },
  {
   "cell_type": "code",
   "execution_count": 110,
   "id": "eed53700-a469-48be-8722-e3136ad29843",
   "metadata": {},
   "outputs": [
    {
     "name": "stdin",
     "output_type": "stream",
     "text": [
      "Enter a number:  5\n"
     ]
    },
    {
     "name": "stdout",
     "output_type": "stream",
     "text": [
      "The factorial of 5 is 120\n"
     ]
    }
   ],
   "source": [
    "num = int(input(\"Enter a number: \"))\n",
    "factorial = 1\n",
    "if num < 0:\n",
    "    print(\"Factorial is not defined for negative numbers\")\n",
    "else:\n",
    "    for i in range(1, num + 1):\n",
    "        factorial *= i\n",
    "    print(f\"The factorial of {num} is {factorial}\")"
   ]
  },
  {
   "cell_type": "markdown",
   "id": "9894c774-96e1-4586-bcbf-6f3840241de8",
   "metadata": {},
   "source": [
    "#### Q5) Count how many vowels are in a given string.\n"
   ]
  },
  {
   "cell_type": "code",
   "execution_count": 117,
   "id": "18a05575-f47e-4a90-8217-d536dd795a76",
   "metadata": {},
   "outputs": [
    {
     "name": "stdin",
     "output_type": "stream",
     "text": [
      "Enter a string:  4\n"
     ]
    },
    {
     "name": "stdout",
     "output_type": "stream",
     "text": [
      "Number of vowels: 0\n"
     ]
    }
   ],
   "source": [
    "text = input(\"Enter a string: \")\n",
    "vowels = \"aeiouAEIOU\"\n",
    "count = 0\n",
    "for char in text:\n",
    "    if char in vowels:\n",
    "        count += 1\n",
    "print(f\"Number of vowels: {count}\")"
   ]
  },
  {
   "cell_type": "markdown",
   "id": "ae2d019e-6845-4a49-a947-06266ffd8167",
   "metadata": {},
   "source": [
    "## Own Questions"
   ]
  },
  {
   "cell_type": "markdown",
   "id": "43c20e19-feaa-430d-997e-3c85a9f15861",
   "metadata": {},
   "source": [
    "#### Q1)Print all even numbers from 1 to 20."
   ]
  },
  {
   "cell_type": "code",
   "execution_count": 30,
   "id": "02f60dfd-a8ce-4875-a33c-8389aeb6b919",
   "metadata": {},
   "outputs": [
    {
     "name": "stdout",
     "output_type": "stream",
     "text": [
      "2 4 6 8 10 12 14 16 18 20 "
     ]
    }
   ],
   "source": [
    "for i in range(1, 21):\n",
    "    if i % 2 == 0:\n",
    "        print(i, end=' ')\n"
   ]
  },
  {
   "cell_type": "markdown",
   "id": "65df2f0c-5ca0-48c9-a070-9502997ba41c",
   "metadata": {},
   "source": [
    "#### Q2) Calculate the sum of numbers from 1 to 100"
   ]
  },
  {
   "cell_type": "code",
   "execution_count": 33,
   "id": "e039a252-337a-4d0e-a114-1dc927e256ba",
   "metadata": {},
   "outputs": [
    {
     "name": "stdout",
     "output_type": "stream",
     "text": [
      "Sum: 5050\n"
     ]
    }
   ],
   "source": [
    "total = 0\n",
    "for i in range(1, 101):\n",
    "    total += i\n",
    "print(\"Sum:\", total)\n"
   ]
  },
  {
   "cell_type": "markdown",
   "id": "71902fd4-d7c9-4329-b2ac-b742aecb5a16",
   "metadata": {},
   "source": [
    "#### Q3) Print each character in the string \"Python\" on a new line."
   ]
  },
  {
   "cell_type": "code",
   "execution_count": 36,
   "id": "f9ac3380-b64d-42b9-92c4-49f50c3abe66",
   "metadata": {},
   "outputs": [
    {
     "name": "stdout",
     "output_type": "stream",
     "text": [
      "P\n",
      "y\n",
      "t\n",
      "h\n",
      "o\n",
      "n\n"
     ]
    }
   ],
   "source": [
    "word = \"Python\"\n",
    "for char in word:\n",
    "    print(char)\n"
   ]
  },
  {
   "cell_type": "markdown",
   "id": "a63a37a3-c1eb-48ce-8a6c-7d67333f37b3",
   "metadata": {},
   "source": [
    "#### Q4) Print the multiplication table of 5 (up to 10)."
   ]
  },
  {
   "cell_type": "code",
   "execution_count": 39,
   "id": "b7a4bf2f-e643-4b56-8131-c54a96ce1f31",
   "metadata": {},
   "outputs": [
    {
     "name": "stdout",
     "output_type": "stream",
     "text": [
      "5 x 1 = 5\n",
      "5 x 2 = 10\n",
      "5 x 3 = 15\n",
      "5 x 4 = 20\n",
      "5 x 5 = 25\n",
      "5 x 6 = 30\n",
      "5 x 7 = 35\n",
      "5 x 8 = 40\n",
      "5 x 9 = 45\n",
      "5 x 10 = 50\n"
     ]
    }
   ],
   "source": [
    "for i in range(1, 11):\n",
    "    print(f\"5 x {i} = {5 * i}\")\n"
   ]
  },
  {
   "cell_type": "markdown",
   "id": "7c713f3c-5382-4cf1-807b-79242cdf91f7",
   "metadata": {},
   "source": [
    "#### Q5) Create a list of squares of numbers from 1 to 10 using a for loop."
   ]
  },
  {
   "cell_type": "code",
   "execution_count": 42,
   "id": "ee506c04-1efa-421d-93ea-3499842d777f",
   "metadata": {},
   "outputs": [
    {
     "name": "stdout",
     "output_type": "stream",
     "text": [
      "[1, 4, 9, 16, 25, 36, 49, 64, 81, 100]\n"
     ]
    }
   ],
   "source": [
    "squares = []\n",
    "for i in range(1, 11):\n",
    "    squares.append(i ** 2)\n",
    "print(squares)\n"
   ]
  },
  {
   "cell_type": "markdown",
   "id": "262346dc-6b32-4a04-9feb-2a8c5d9a8262",
   "metadata": {},
   "source": [
    "## Section 3: while Loop"
   ]
  },
  {
   "cell_type": "markdown",
   "id": "3b2fa550-bef6-4bb7-85b6-8242774784b4",
   "metadata": {},
   "source": [
    "#### Q1) Print numbers from 1 to 10 using a while loop."
   ]
  },
  {
   "cell_type": "code",
   "execution_count": 122,
   "id": "1455edca-8589-44cc-89d1-36ff2efa554f",
   "metadata": {},
   "outputs": [
    {
     "name": "stdout",
     "output_type": "stream",
     "text": [
      "1\n",
      "2\n",
      "3\n",
      "4\n",
      "5\n",
      "6\n",
      "7\n",
      "8\n",
      "9\n",
      "10\n"
     ]
    }
   ],
   "source": [
    "i = 1\n",
    "while i <= 10:\n",
    "    print(i)\n",
    "    i += 1"
   ]
  },
  {
   "cell_type": "markdown",
   "id": "979ac91a-3d0f-44e3-ab0c-76b9ca76c3b2",
   "metadata": {},
   "source": [
    "#### Q2) Print the sum of numbers until the user enters 0."
   ]
  },
  {
   "cell_type": "code",
   "execution_count": 125,
   "id": "5935d0a5-eee5-4945-8ddf-1615db495673",
   "metadata": {},
   "outputs": [
    {
     "name": "stdin",
     "output_type": "stream",
     "text": [
      "Enter a number (0 to stop):  52\n",
      "Enter a number (0 to stop):  1\n",
      "Enter a number (0 to stop):  0\n"
     ]
    },
    {
     "name": "stdout",
     "output_type": "stream",
     "text": [
      "Sum of numbers: 53\n"
     ]
    }
   ],
   "source": [
    "total = 0\n",
    "while True:\n",
    "    num = int(input(\"Enter a number (0 to stop): \"))\n",
    "    if num == 0:\n",
    "        break\n",
    "    total += num\n",
    "print(f\"Sum of numbers: {total}\")"
   ]
  },
  {
   "cell_type": "markdown",
   "id": "25b6b974-1df2-460f-a0a1-3d989437a037",
   "metadata": {},
   "source": [
    "#### Q3)Reverse a given number using while loop.\n"
   ]
  },
  {
   "cell_type": "code",
   "execution_count": 130,
   "id": "083d613f-e1ab-4dca-970f-24fcda19a7e1",
   "metadata": {},
   "outputs": [
    {
     "name": "stdin",
     "output_type": "stream",
     "text": [
      "Enter a number:  78\n"
     ]
    },
    {
     "name": "stdout",
     "output_type": "stream",
     "text": [
      "Reversed number: 87\n"
     ]
    }
   ],
   "source": [
    "num = int(input(\"Enter a number: \"))\n",
    "reversed_num = 0\n",
    "while num > 0:\n",
    "    digit = num % 10\n",
    "    reversed_num = reversed_num * 10 + digit\n",
    "    num //= 10\n",
    "print(f\"Reversed number: {reversed_num}\")"
   ]
  },
  {
   "cell_type": "markdown",
   "id": "c827cdd5-fda5-4a29-b1fe-e8c19a350228",
   "metadata": {},
   "source": [
    "#### Q4) Count digits of a number using while."
   ]
  },
  {
   "cell_type": "code",
   "execution_count": 135,
   "id": "5acd4c6f-52da-41ec-b7c1-4eb75e2cb791",
   "metadata": {},
   "outputs": [
    {
     "name": "stdin",
     "output_type": "stream",
     "text": [
      "Enter a number:  10\n"
     ]
    },
    {
     "name": "stdout",
     "output_type": "stream",
     "text": [
      "Number of digits: 2\n"
     ]
    }
   ],
   "source": [
    "num = int(input(\"Enter a number: \"))\n",
    "count = 0\n",
    "if num == 0:\n",
    "    count = 1\n",
    "else:\n",
    "    while num != 0:\n",
    "        num //= 10\n",
    "        count += 1\n",
    "print(f\"Number of digits: {count}\")"
   ]
  },
  {
   "cell_type": "markdown",
   "id": "211012b1-9ccb-4e3b-bf7f-c8b458910b02",
   "metadata": {},
   "source": [
    "#### Q5) Print Fibonacci series up to n terms using while.\n"
   ]
  },
  {
   "cell_type": "code",
   "execution_count": 166,
   "id": "98df622b-d015-4fce-88cc-7b5fcad9634c",
   "metadata": {},
   "outputs": [
    {
     "name": "stdin",
     "output_type": "stream",
     "text": [
      "Enter the number of terms:  1\n"
     ]
    },
    {
     "name": "stdout",
     "output_type": "stream",
     "text": [
      "0 "
     ]
    }
   ],
   "source": [
    "n = int(input(\"Enter the number of terms: \"))\n",
    "a, b = 0, 1\n",
    "count = 0\n",
    "while count < n:\n",
    "    print(a, end=\" \")\n",
    "    a, b = b, a + b\n",
    "    count += 1"
   ]
  },
  {
   "cell_type": "markdown",
   "id": "b5918ee2-f6de-44f9-8740-622edea8b43a",
   "metadata": {},
   "source": [
    "## Own Questions"
   ]
  },
  {
   "cell_type": "markdown",
   "id": "77a86e10-e69c-42b7-9ec6-300f04717e94",
   "metadata": {},
   "source": [
    "#### Q1) Print numbers from 1 to 5 using a while loop."
   ]
  },
  {
   "cell_type": "code",
   "execution_count": 46,
   "id": "01419f52-a0c4-4edd-ab81-d738dbdc09b0",
   "metadata": {},
   "outputs": [
    {
     "name": "stdout",
     "output_type": "stream",
     "text": [
      "1 2 3 4 5 "
     ]
    }
   ],
   "source": [
    "i = 1\n",
    "while i <= 5:\n",
    "    print(i, end=' ')\n",
    "    i += 1\n"
   ]
  },
  {
   "cell_type": "markdown",
   "id": "25056bc2-458d-49c3-bc72-43eb4529846d",
   "metadata": {},
   "source": [
    "#### Q2) Calculate the factorial of a number (e.g., 5)."
   ]
  },
  {
   "cell_type": "code",
   "execution_count": 49,
   "id": "12627ea5-66e5-4f1f-b155-9f2ae2864da7",
   "metadata": {},
   "outputs": [
    {
     "name": "stdout",
     "output_type": "stream",
     "text": [
      "Factorial: 120\n"
     ]
    }
   ],
   "source": [
    "n = 5\n",
    "factorial = 1\n",
    "while n > 0:\n",
    "    factorial *= n\n",
    "    n -= 1\n",
    "print(\"Factorial:\", factorial)\n"
   ]
  },
  {
   "cell_type": "markdown",
   "id": "5d245563-8d1f-447f-a173-835c67474a99",
   "metadata": {},
   "source": [
    "#### Q3) Sum all even numbers from 1 to 20\n"
   ]
  },
  {
   "cell_type": "code",
   "execution_count": 52,
   "id": "478fa211-3c29-4bfd-8479-29fbd6fd891c",
   "metadata": {},
   "outputs": [
    {
     "name": "stdout",
     "output_type": "stream",
     "text": [
      "Sum of even numbers: 110\n"
     ]
    }
   ],
   "source": [
    "i = 1\n",
    "total = 0\n",
    "while i <= 20:\n",
    "    if i % 2 == 0:\n",
    "        total += i\n",
    "    i += 1\n",
    "print(\"Sum of even numbers:\", total)\n"
   ]
  },
  {
   "cell_type": "markdown",
   "id": "13207026-13c6-4ba9-9c54-4f7868ff8302",
   "metadata": {},
   "source": [
    "#### Q4) Reverse the digits of a number (e.g., 1234 → 4321)."
   ]
  },
  {
   "cell_type": "code",
   "execution_count": 55,
   "id": "ea16ccc9-c343-44bc-9ccd-88146ced04bb",
   "metadata": {},
   "outputs": [
    {
     "name": "stdout",
     "output_type": "stream",
     "text": [
      "Reversed: 4321\n"
     ]
    }
   ],
   "source": [
    "num = 1234\n",
    "reverse = 0\n",
    "while num > 0:\n",
    "    digit = num % 10\n",
    "    reverse = reverse * 10 + digit\n",
    "    num //= 10\n",
    "print(\"Reversed:\", reverse)\n"
   ]
  },
  {
   "cell_type": "markdown",
   "id": "1ea13dcc-a68a-4ffa-8e7f-ce1ac3209415",
   "metadata": {},
   "source": [
    "## Section 4: Control Statements (break, continue, pass).\n"
   ]
  },
  {
   "cell_type": "markdown",
   "id": "934b3b74-dfe8-42ab-8840-6baacb0af280",
   "metadata": {},
   "source": [
    "### Q1) Print numbers 1 to 10, but stop if number is 5 (break).\n"
   ]
  },
  {
   "cell_type": "code",
   "execution_count": 144,
   "id": "f690818c-d0c9-4392-b82a-e8695c979b86",
   "metadata": {},
   "outputs": [
    {
     "name": "stdout",
     "output_type": "stream",
     "text": [
      "1\n",
      "2\n",
      "3\n",
      "4\n"
     ]
    }
   ],
   "source": [
    "for i in range(1, 11):\n",
    "    if i == 5:\n",
    "        break\n",
    "    print(i)"
   ]
  },
  {
   "cell_type": "markdown",
   "id": "0d858bda-135d-4d9c-828d-8a9c0073c413",
   "metadata": {},
   "source": [
    "#### Q2) Print numbers 1 to 10, but skip 5 (continue).\n"
   ]
  },
  {
   "cell_type": "code",
   "execution_count": 149,
   "id": "7e19bdab-a1cf-47e6-b381-8f73c7376fed",
   "metadata": {},
   "outputs": [
    {
     "name": "stdout",
     "output_type": "stream",
     "text": [
      "1\n",
      "2\n",
      "3\n",
      "4\n",
      "6\n",
      "7\n",
      "8\n",
      "9\n",
      "10\n"
     ]
    }
   ],
   "source": [
    "for i in range(1, 11):\n",
    "    if i == 5:\n",
    "        continue\n",
    "    print(i)"
   ]
  },
  {
   "cell_type": "markdown",
   "id": "3417b97e-4120-4925-ad47-607e5a148a6d",
   "metadata": {},
   "source": [
    "#### Q3) Use pass statement inside a loop and explain its purpose.\n"
   ]
  },
  {
   "cell_type": "code",
   "execution_count": 172,
   "id": "0ce4bef1-270a-44bf-bc1f-3c58a28be3a3",
   "metadata": {},
   "outputs": [
    {
     "name": "stdout",
     "output_type": "stream",
     "text": [
      "1\n",
      "3\n",
      "5\n",
      "7\n",
      "9\n"
     ]
    }
   ],
   "source": [
    "for i in range(1, 11):\n",
    "    if i % 2 == 0:\n",
    "        pass  # Placeholder, does nothing\n",
    "    else:\n",
    "        print(i)"
   ]
  },
  {
   "cell_type": "markdown",
   "id": "dbf261d6-3dea-4cde-85e1-0b4c44404c29",
   "metadata": {},
   "source": [
    "#### Expalination\n",
    "He pass statement in Python does nothing and acts as a placeholder. \n",
    "\n",
    "It’s used when Python expects code, but you don’t want to do anything yet. \n",
    "\n",
    "In the example, pass is used for even numbers, so the loop skips them without doing anything, while odd numbers are printed. \n",
    "\n",
    "It’s handy during coding to avoid errors when you plan to add code later or need an empty block."
   ]
  },
  {
   "cell_type": "markdown",
   "id": "40490083-55d8-458f-988f-7bd19e955314",
   "metadata": {},
   "source": [
    "#### Q4) Search a number in a list. If found, print and break loop."
   ]
  },
  {
   "cell_type": "code",
   "execution_count": 177,
   "id": "b1e4f503-d9b5-4b19-9a6e-78a31db993d7",
   "metadata": {},
   "outputs": [
    {
     "name": "stdin",
     "output_type": "stream",
     "text": [
      "Enter a number to search:  4\n"
     ]
    },
    {
     "name": "stdout",
     "output_type": "stream",
     "text": [
      "Number 4 found\n"
     ]
    }
   ],
   "source": [
    "numbers = [4, 7, 2, 9, 1, 5]\n",
    "search_num = int(input(\"Enter a number to search: \"))\n",
    "for num in numbers:\n",
    "    if num == search_num:\n",
    "        print(f\"Number {search_num} found\")\n",
    "        break\n",
    "else:\n",
    "    print(f\"Number {search_num} not found\")"
   ]
  },
  {
   "cell_type": "markdown",
   "id": "59450e41-55b3-4562-8b8e-ac440c9e71c3",
   "metadata": {},
   "source": [
    "#### Q5) Use continue to print only odd numbers from 1 to 20.\n"
   ]
  },
  {
   "cell_type": "code",
   "execution_count": 164,
   "id": "87537813-b9db-4e6e-9f7f-bd5d3e9d22f4",
   "metadata": {},
   "outputs": [
    {
     "name": "stdout",
     "output_type": "stream",
     "text": [
      "1\n",
      "3\n",
      "5\n",
      "7\n",
      "9\n",
      "11\n",
      "13\n",
      "15\n",
      "17\n",
      "19\n"
     ]
    }
   ],
   "source": [
    "for i in range(1, 21):\n",
    "    if i % 2 == 0:\n",
    "        continue\n",
    "    print(i)"
   ]
  },
  {
   "cell_type": "markdown",
   "id": "effc80bd-5157-4774-be72-4f8c1c790647",
   "metadata": {},
   "source": [
    "## Own Questions"
   ]
  },
  {
   "cell_type": "markdown",
   "id": "268753e5-7dfb-445d-a38f-3e8a1a8ff18f",
   "metadata": {},
   "source": [
    "#### Q1)Use break\n",
    "Find the first number divisible by 7 between 1 and 20 and stop the loop when found.\n",
    "\n"
   ]
  },
  {
   "cell_type": "code",
   "execution_count": 60,
   "id": "30b8ef53-8e3f-4316-a1b0-55c3dc00d56e",
   "metadata": {},
   "outputs": [
    {
     "name": "stdout",
     "output_type": "stream",
     "text": [
      "First number divisible by 7: 7\n"
     ]
    }
   ],
   "source": [
    "for i in range(1, 21):\n",
    "    if i % 7 == 0:\n",
    "        print(\"First number divisible by 7:\", i)\n",
    "        break\n"
   ]
  },
  {
   "cell_type": "markdown",
   "id": "176c264d-45b8-4217-88c7-9a3e14aee8e7",
   "metadata": {},
   "source": [
    "#### Q2) Use continue\n",
    "Print numbers from 1 to 10, skipping even numbers."
   ]
  },
  {
   "cell_type": "code",
   "execution_count": 63,
   "id": "19b86ee8-71ef-407f-b304-aa52286140b6",
   "metadata": {},
   "outputs": [
    {
     "name": "stdout",
     "output_type": "stream",
     "text": [
      "1 3 5 7 9 "
     ]
    }
   ],
   "source": [
    "for i in range(1, 11):\n",
    "    if i % 2 == 0:\n",
    "        continue\n",
    "    print(i, end=' ')\n"
   ]
  },
  {
   "cell_type": "markdown",
   "id": "e83d4dce-91f7-485b-892f-a75326845181",
   "metadata": {},
   "source": [
    "#### Q3) Use pass\n",
    "Check characters in a string and use pass to ignore spaces.\n"
   ]
  },
  {
   "cell_type": "code",
   "execution_count": 68,
   "id": "a6da8da7-4b59-4e41-bf12-ce1bfa541c75",
   "metadata": {},
   "outputs": [
    {
     "name": "stdout",
     "output_type": "stream",
     "text": [
      "H e l l o W o r l d "
     ]
    }
   ],
   "source": [
    "text = \"Hello World\"\n",
    "for char in text:\n",
    "    if char == ' ':\n",
    "        pass  # Do nothing on space\n",
    "    else:\n",
    "        print(char, end=' ')\n"
   ]
  },
  {
   "cell_type": "markdown",
   "id": "2395461e-6672-408a-afed-0197f8c601f5",
   "metadata": {},
   "source": [
    "#### Q4) Use break in while\n",
    "Ask the user to enter numbers until they enter a negative number, then break.\n",
    "\n",
    "\n"
   ]
  },
  {
   "cell_type": "code",
   "execution_count": 71,
   "id": "50fab490-e42c-4d7d-b2f1-af7208cf6585",
   "metadata": {},
   "outputs": [
    {
     "name": "stdin",
     "output_type": "stream",
     "text": [
      "Enter a number (negative to quit):  -12\n"
     ]
    },
    {
     "name": "stdout",
     "output_type": "stream",
     "text": [
      "Loop exited.\n"
     ]
    }
   ],
   "source": [
    "while True:\n",
    "    num = int(input(\"Enter a number (negative to quit): \"))\n",
    "    if num < 0:\n",
    "        print(\"Loop exited.\")\n",
    "        break\n",
    "    print(\"You entered:\", num)\n"
   ]
  },
  {
   "cell_type": "markdown",
   "id": "b680eaf8-702f-4a6a-b551-ebe7daec2a5d",
   "metadata": {},
   "source": [
    "#### Q5) continue with while\n",
    "Print numbers from 1 to 10, skipping multiples of 3."
   ]
  },
  {
   "cell_type": "code",
   "execution_count": 74,
   "id": "441d6246-60bd-47e3-bd5b-d786f035e3d6",
   "metadata": {},
   "outputs": [
    {
     "name": "stdout",
     "output_type": "stream",
     "text": [
      "1 2 4 5 7 8 10 "
     ]
    }
   ],
   "source": [
    "i = 0\n",
    "while i < 10:\n",
    "    i += 1\n",
    "    if i % 3 == 0:\n",
    "        continue\n",
    "    print(i, end=' ')\n"
   ]
  },
  {
   "cell_type": "code",
   "execution_count": null,
   "id": "27ab6fc1-422a-439a-a148-1ede5003b474",
   "metadata": {},
   "outputs": [],
   "source": []
  }
 ],
 "metadata": {
  "kernelspec": {
   "display_name": "Python [conda env:base] *",
   "language": "python",
   "name": "conda-base-py"
  },
  "language_info": {
   "codemirror_mode": {
    "name": "ipython",
    "version": 3
   },
   "file_extension": ".py",
   "mimetype": "text/x-python",
   "name": "python",
   "nbconvert_exporter": "python",
   "pygments_lexer": "ipython3",
   "version": "3.12.7"
  }
 },
 "nbformat": 4,
 "nbformat_minor": 5
}
