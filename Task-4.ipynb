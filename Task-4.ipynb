{
 "cells": [
  {
   "cell_type": "markdown",
   "id": "0b81ff10-6fba-4d7c-9512-47b54ac87a50",
   "metadata": {},
   "source": [
    "## A. User-defined Function"
   ]
  },
  {
   "cell_type": "markdown",
   "id": "8dc77261-5693-4a05-99f4-78853f9c9b4d",
   "metadata": {},
   "source": [
    "#### Q1) Write a function that takes a list of numbers and returns the list of their squares."
   ]
  },
  {
   "cell_type": "code",
   "execution_count": 158,
   "id": "6621a712-fa63-4c7b-9f03-6930184c73d2",
   "metadata": {},
   "outputs": [],
   "source": [
    "def square_list(numbers):\n",
    "    return [num * num for num in numbers]"
   ]
  },
  {
   "cell_type": "code",
   "execution_count": 159,
   "id": "829ae075-f65a-4b12-a95c-660a4e367b04",
   "metadata": {},
   "outputs": [
    {
     "name": "stdout",
     "output_type": "stream",
     "text": [
      "[1, 4, 9, 16]\n"
     ]
    }
   ],
   "source": [
    "nums = [1, 2, 3, 4]\n",
    "result = square_list(nums)\n",
    "print(result)  "
   ]
  },
  {
   "cell_type": "markdown",
   "id": "8bb776d5-8de6-48eb-a18a-85f28e8376cb",
   "metadata": {},
   "source": [
    "#### Q2) Create a function that takes a string and counts the number of vowels."
   ]
  },
  {
   "cell_type": "code",
   "execution_count": 161,
   "id": "273be8be-8859-4ad5-a341-6358a8fea24a",
   "metadata": {},
   "outputs": [],
   "source": [
    "def count_vowels(string):\n",
    "    vowels = 'aeiouAEIOU'\n",
    "    return sum(1 for char in string if char in vowels)"
   ]
  },
  {
   "cell_type": "code",
   "execution_count": 162,
   "id": "132eaee9-d73f-4295-8792-81c60bcee013",
   "metadata": {},
   "outputs": [
    {
     "name": "stdout",
     "output_type": "stream",
     "text": [
      "5\n"
     ]
    }
   ],
   "source": [
    "A = \"Aniket Dhuke\"\n",
    "result = count_vowels(A)\n",
    "print(result)  "
   ]
  },
  {
   "cell_type": "markdown",
   "id": "5f7afd76-92c5-48a5-aab2-4e15393825f2",
   "metadata": {},
   "source": [
    "#### Q3) Define a function that accepts a number and returns True if it’s an Armstrong number.\n"
   ]
  },
  {
   "cell_type": "code",
   "execution_count": 164,
   "id": "e5eb6657-412b-42fa-bb16-2c3afb047fe7",
   "metadata": {},
   "outputs": [],
   "source": [
    "def is_armstrong(number):\n",
    "    num_str = str(number)\n",
    "    num_digits = len(num_str)\n",
    "    total = sum(int(digit) ** num_digits for digit in num_str)\n",
    "    return total == number"
   ]
  },
  {
   "cell_type": "code",
   "execution_count": 165,
   "id": "34a2e56f-aa35-450e-aef1-242f9e002dc5",
   "metadata": {},
   "outputs": [
    {
     "name": "stdout",
     "output_type": "stream",
     "text": [
      "True\n",
      "True\n",
      "False\n"
     ]
    }
   ],
   "source": [
    "print(is_armstrong(153))  \n",
    "print(is_armstrong(370))  \n",
    "print(is_armstrong(123))  "
   ]
  },
  {
   "cell_type": "markdown",
   "id": "c50675fe-a38d-4e20-90ba-6b037eb47ddb",
   "metadata": {},
   "source": [
    "#### Q4) Write a function that accepts a list of names and returns names that start with the letter ‘S’."
   ]
  },
  {
   "cell_type": "code",
   "execution_count": 167,
   "id": "ad800aed-9438-4701-a1bf-ad205a6751a4",
   "metadata": {},
   "outputs": [],
   "source": [
    "def filter_s_names(names):\n",
    "    return [name for name in names if name.startswith('S') or name.startswith('s')]"
   ]
  },
  {
   "cell_type": "code",
   "execution_count": 168,
   "id": "ca8711c2-792c-487c-850a-a66e1799883e",
   "metadata": {},
   "outputs": [
    {
     "name": "stdout",
     "output_type": "stream",
     "text": [
      "['Sam', 'Samarth', 'Sanika']\n"
     ]
    }
   ],
   "source": [
    "names = [\"Sam\", \"John\", \"Samarth\", \"Sanika\", \"Anna\"]\n",
    "result = filter_s_names(names)\n",
    "print(result)  "
   ]
  },
  {
   "cell_type": "markdown",
   "id": "b28c7d28-2b40-43c2-9a8f-ff998b6769c3",
   "metadata": {},
   "source": [
    "#### Q5) Create a function that accepts two numbers and returns their HCF (Highest Common Factor).\n"
   ]
  },
  {
   "cell_type": "code",
   "execution_count": 170,
   "id": "0da2cf0c-a950-4b58-a44d-35c67fa2378a",
   "metadata": {},
   "outputs": [],
   "source": [
    "def find_hcf(a, b):\n",
    "    while b:\n",
    "        a, b = b, a % b\n",
    "    return a"
   ]
  },
  {
   "cell_type": "code",
   "execution_count": 171,
   "id": "ad0e7f4e-0802-40a1-bbc7-22a58089fa4c",
   "metadata": {},
   "outputs": [
    {
     "name": "stdout",
     "output_type": "stream",
     "text": [
      "6\n",
      "6\n",
      "1\n"
     ]
    }
   ],
   "source": [
    "print(find_hcf(48, 18))  \n",
    "print(find_hcf(54, 24)) \n",
    "print(find_hcf(7, 13)) "
   ]
  },
  {
   "cell_type": "markdown",
   "id": "7dd14f31-dea1-4b82-959c-c684cae9c179",
   "metadata": {},
   "source": [
    "## B. Lambda Function"
   ]
  },
  {
   "cell_type": "markdown",
   "id": "28060b69-3611-441b-8e47-628ccf5ae5c2",
   "metadata": {},
   "source": [
    "#### Q1) Write a lambda function to check if a number is divisible by 5.\n",
    "\n"
   ]
  },
  {
   "cell_type": "code",
   "execution_count": 174,
   "id": "b0dd01c2-4595-4d3e-ac25-e0a40037f7b2",
   "metadata": {},
   "outputs": [],
   "source": [
    "is_divisible_by_5 = lambda x: x % 5 == 0"
   ]
  },
  {
   "cell_type": "code",
   "execution_count": 175,
   "id": "80d2c83e-4220-4408-a47c-ea60993ff944",
   "metadata": {},
   "outputs": [
    {
     "name": "stdout",
     "output_type": "stream",
     "text": [
      "True\n",
      "False\n"
     ]
    }
   ],
   "source": [
    "print(is_divisible_by_5(10))  \n",
    "print(is_divisible_by_5(7))   "
   ]
  },
  {
   "cell_type": "markdown",
   "id": "2d8b64ed-cd5f-4116-a7df-8eae875d4d87",
   "metadata": {},
   "source": [
    "#### Q2) Use a lambda to convert temperature from Celsius to Fahrenheit."
   ]
  },
  {
   "cell_type": "code",
   "execution_count": 177,
   "id": "6a145684-47e6-409c-8f55-4f84941391c0",
   "metadata": {},
   "outputs": [],
   "source": [
    "c_to_f = lambda c: (c * 9/5) + 32"
   ]
  },
  {
   "cell_type": "code",
   "execution_count": 178,
   "id": "dde0e6de-9314-459d-b8dc-59254afa5116",
   "metadata": {},
   "outputs": [
    {
     "name": "stdout",
     "output_type": "stream",
     "text": [
      "32.0\n",
      "212.0\n"
     ]
    }
   ],
   "source": [
    "print(c_to_f(0))   \n",
    "print(c_to_f(100)) "
   ]
  },
  {
   "cell_type": "markdown",
   "id": "afa93210-22e4-4e79-a2eb-73f405418d8c",
   "metadata": {},
   "source": [
    "#### Q3) Create a lambda function that returns the cube of a number."
   ]
  },
  {
   "cell_type": "code",
   "execution_count": 180,
   "id": "313490b6-9358-4a04-b82c-bc0acd989a63",
   "metadata": {},
   "outputs": [],
   "source": [
    "cube = lambda x: x ** 3"
   ]
  },
  {
   "cell_type": "code",
   "execution_count": 181,
   "id": "6ecae079-c0c9-4778-ae00-7f4acbc95eac",
   "metadata": {},
   "outputs": [
    {
     "name": "stdout",
     "output_type": "stream",
     "text": [
      "8\n",
      "125\n"
     ]
    }
   ],
   "source": [
    "print(cube(2))  \n",
    "print(cube(5))"
   ]
  },
  {
   "cell_type": "markdown",
   "id": "eeae0821-d05a-4fce-909f-ac564792d11c",
   "metadata": {},
   "source": [
    "#### Q4) Write a lambda function to add of two strings."
   ]
  },
  {
   "cell_type": "code",
   "execution_count": 183,
   "id": "cbfd1deb-5649-4937-94dc-e824572aed36",
   "metadata": {},
   "outputs": [],
   "source": [
    "concat_strings = lambda str1, str2: str1 + str2"
   ]
  },
  {
   "cell_type": "code",
   "execution_count": 184,
   "id": "88154894-135d-4619-a3e8-583bca93705c",
   "metadata": {},
   "outputs": [
    {
     "name": "stdout",
     "output_type": "stream",
     "text": [
      "AniketDhuke\n",
      "GoodMorning\n"
     ]
    }
   ],
   "source": [
    "print(concat_strings(\"Aniket\", \"Dhuke\"))  \n",
    "print(concat_strings(\"Good\", \"Morning\"))  "
   ]
  },
  {
   "cell_type": "markdown",
   "id": "e0a70b80-ac30-438c-b7a8-6c3fd45011e2",
   "metadata": {},
   "source": [
    "#### Q5) Use a lambda to check if the length of a string is greater than 8.\n"
   ]
  },
  {
   "cell_type": "code",
   "execution_count": 186,
   "id": "252f522a-85dc-42d4-9e2c-840638ad011c",
   "metadata": {},
   "outputs": [],
   "source": [
    "is_long_string = lambda s: len(s) > 8"
   ]
  },
  {
   "cell_type": "code",
   "execution_count": 187,
   "id": "160feed1-e92a-4b79-bc05-c15bc6df0a58",
   "metadata": {},
   "outputs": [
    {
     "name": "stdout",
     "output_type": "stream",
     "text": [
      "True\n",
      "True\n"
     ]
    }
   ],
   "source": [
    "print(is_long_string(\"Hello Python\"))   \n",
    "print(is_long_string(\"District Pune\"))  "
   ]
  },
  {
   "cell_type": "markdown",
   "id": "d75fd964-862a-472e-a629-b103c9ba9351",
   "metadata": {},
   "source": [
    "## C. Filter Function"
   ]
  },
  {
   "cell_type": "markdown",
   "id": "f28430f9-027c-4897-a6ad-7b6748ea590b",
   "metadata": {},
   "source": [
    "#### Q1) Use filter() to get all strings with length greater than 4 from a list."
   ]
  },
  {
   "cell_type": "code",
   "execution_count": 190,
   "id": "433cb123-6e9a-4e32-b7c8-176cf588603b",
   "metadata": {},
   "outputs": [],
   "source": [
    "strings = [\"cat\", \"dog\", \"elephant\", \"rat\",\"bird\"]\n",
    "long_strings = list(filter(lambda s: len(s) > 4, strings))"
   ]
  },
  {
   "cell_type": "code",
   "execution_count": 191,
   "id": "8418db7a-c805-4168-a5e7-41feb54f28a1",
   "metadata": {},
   "outputs": [
    {
     "name": "stdout",
     "output_type": "stream",
     "text": [
      "['elephant']\n"
     ]
    }
   ],
   "source": [
    "print(long_strings)  "
   ]
  },
  {
   "cell_type": "markdown",
   "id": "268aea2f-997a-402f-b3a4-a4b5d83bfe7a",
   "metadata": {},
   "source": [
    "#### Q2) Use filter() to extract numbers greater than 100 from a list.\n"
   ]
  },
  {
   "cell_type": "code",
   "execution_count": 193,
   "id": "1aea8a2b-6185-4aa6-8bdd-4041a528c070",
   "metadata": {},
   "outputs": [],
   "source": [
    "numbers = [50, 150, 75, 200, 90, 300]\n",
    "large_numbers = list(filter(lambda x: x > 100, numbers))"
   ]
  },
  {
   "cell_type": "code",
   "execution_count": 194,
   "id": "8be52b98-0d2a-42d7-934f-98461dc41711",
   "metadata": {},
   "outputs": [
    {
     "name": "stdout",
     "output_type": "stream",
     "text": [
      "[150, 200, 300]\n"
     ]
    }
   ],
   "source": [
    "print(large_numbers)  "
   ]
  },
  {
   "cell_type": "markdown",
   "id": "b0ef87fe-8e1f-4dda-96c7-854fdb243f6a",
   "metadata": {},
   "source": [
    "#### Q3) Write a program to filter all odd numbers from a list using a lambda.\n"
   ]
  },
  {
   "cell_type": "code",
   "execution_count": 196,
   "id": "c8cb9007-bc83-49b7-a548-734bb3952eaf",
   "metadata": {},
   "outputs": [
    {
     "name": "stdout",
     "output_type": "stream",
     "text": [
      "[1, 3, 5, 7, 9]\n"
     ]
    }
   ],
   "source": [
    "numbers = [1, 2, 3, 4, 5, 6, 7, 8, 9, 10]\n",
    "odd_numbers = list(filter(lambda x: x % 2 != 0, numbers))\n",
    "print(odd_numbers)"
   ]
  },
  {
   "cell_type": "markdown",
   "id": "95b88304-3105-4645-9f4a-e9399697ec28",
   "metadata": {},
   "source": [
    "#### Q4) Use filter() to find names that end with the letter ‘a’.\n",
    " \n"
   ]
  },
  {
   "cell_type": "code",
   "execution_count": 198,
   "id": "5c45deac-87f2-455a-9054-2fb569f12862",
   "metadata": {},
   "outputs": [
    {
     "name": "stdout",
     "output_type": "stream",
     "text": [
      "['Anna', 'Anita', 'Ankita', 'Rutuja']\n"
     ]
    }
   ],
   "source": [
    "names = [\"Anna\", \"Aditi\", \"Anita\", \"Aniket\", \"Ankita\", \"Rutuja\"]\n",
    "a_ending_names = list(filter(lambda name: name.lower().endswith('a'), names))\n",
    "print(a_ending_names)\n"
   ]
  },
  {
   "cell_type": "markdown",
   "id": "48d3ff72-0e8f-42d9-b4ef-20170862f76c",
   "metadata": {},
   "source": [
    "#### Q5) Filter out all elements that are not integers from a mixed list. \n",
    "\n"
   ]
  },
  {
   "cell_type": "code",
   "execution_count": 200,
   "id": "3f9aa159-273d-41a5-86c9-a0519a956287",
   "metadata": {},
   "outputs": [
    {
     "name": "stdout",
     "output_type": "stream",
     "text": [
      "[1, 3, True, 4]\n"
     ]
    }
   ],
   "source": [
    "mixed_list = [1, \"hello\", 2.5, 3, True, 4, \"world\", 5.0]\n",
    "integers_only = list(filter(lambda x: isinstance(x, int), mixed_list))\n",
    "print(integers_only)"
   ]
  },
  {
   "cell_type": "markdown",
   "id": "e3dfa122-64c9-457e-a322-69ffd5ffa84c",
   "metadata": {},
   "source": [
    "## D. Format Function "
   ]
  },
  {
   "cell_type": "markdown",
   "id": "d235a72a-ebd4-4593-97d2-434deef35d96",
   "metadata": {},
   "source": [
    "#### Q1.Format and print: \"Student {name} scored {marks} marks in {subject}\". "
   ]
  },
  {
   "cell_type": "code",
   "execution_count": 203,
   "id": "2eb98dd5-7f4c-49fe-857e-4b855c613434",
   "metadata": {},
   "outputs": [
    {
     "name": "stdout",
     "output_type": "stream",
     "text": [
      "Student Aniket scored 95 marks in Math\n"
     ]
    }
   ],
   "source": [
    "name = \"Aniket\"\n",
    "marks = 95\n",
    "subject = \"Math\"\n",
    "\n",
    "formatted_string = \"Student {} scored {} marks in {}\".format(name, marks, subject)\n",
    "print(formatted_string)"
   ]
  },
  {
   "cell_type": "markdown",
   "id": "67e89882-d553-4a74-87f4-c1d2fb3ed869",
   "metadata": {},
   "source": [
    "## E. Map Function "
   ]
  },
  {
   "cell_type": "markdown",
   "id": "c6c3e978-3af5-4524-82b7-95002af6ed16",
   "metadata": {},
   "source": [
    "#### Q1) Use map() to convert a list of integers into their squares.\n"
   ]
  },
  {
   "cell_type": "code",
   "execution_count": 206,
   "id": "5f0d2272-9754-4773-b5b7-9d7270fbb545",
   "metadata": {},
   "outputs": [
    {
     "name": "stdout",
     "output_type": "stream",
     "text": [
      "[1, 4, 9, 16, 25]\n"
     ]
    }
   ],
   "source": [
    "numbers = [1, 2, 3, 4, 5]\n",
    "squares = list(map(lambda x: x**2, numbers))\n",
    "print(squares)  "
   ]
  },
  {
   "cell_type": "markdown",
   "id": "35a39d0d-8cca-48bb-b71e-eec8176047c5",
   "metadata": {},
   "source": [
    "#### Q2) Apply map() to convert a list of strings to uppercase.\n"
   ]
  },
  {
   "cell_type": "code",
   "execution_count": 208,
   "id": "0cd89789-5b60-4645-a3cb-fdcfcf1e91f6",
   "metadata": {},
   "outputs": [
    {
     "name": "stdout",
     "output_type": "stream",
     "text": [
      "['HELLO', 'ANIKET', 'DHUKE']\n"
     ]
    }
   ],
   "source": [
    "words = [\"hello\", \"aniket\", \"dhuke\"]\n",
    "uppercase = list(map(str.upper, words))\n",
    "print(uppercase)  "
   ]
  },
  {
   "cell_type": "markdown",
   "id": "bf2e901e-0880-4d10-a272-1c538a205b0a",
   "metadata": {},
   "source": [
    "#### Q3) Use map() with lambda to subtract 2 from every number in a list."
   ]
  },
  {
   "cell_type": "code",
   "execution_count": 210,
   "id": "77c26c42-d186-4056-a2fb-fa12730145d0",
   "metadata": {},
   "outputs": [
    {
     "name": "stdout",
     "output_type": "stream",
     "text": [
      "[-1, 0, 1, 2, 3]\n"
     ]
    }
   ],
   "source": [
    "numbers = [1, 2, 3, 4, 5]\n",
    "result = list(map(lambda x: x - 2, numbers))\n",
    "print(result)  "
   ]
  },
  {
   "cell_type": "markdown",
   "id": "c3f81333-747d-470e-9086-a50e6b01b0e9",
   "metadata": {},
   "source": [
    "#### Q4) Use map() to get the length of each word in a sentence.`"
   ]
  },
  {
   "cell_type": "code",
   "execution_count": 212,
   "id": "aad2e528-7138-40ad-8119-8922cd66ea45",
   "metadata": {},
   "outputs": [
    {
     "name": "stdout",
     "output_type": "stream",
     "text": [
      "[3, 5, 5, 3]\n"
     ]
    }
   ],
   "source": [
    "sentence = \"The quick brown fox\"\n",
    "words = sentence.split()\n",
    "lengths = list(map(len, words))\n",
    "print(lengths)  "
   ]
  },
  {
   "cell_type": "markdown",
   "id": "fd6cfe0e-942b-4738-9591-994a98b88ecb",
   "metadata": {},
   "source": [
    "#### Q5) Apply map() to multiply each element of a list by its index."
   ]
  },
  {
   "cell_type": "code",
   "execution_count": 249,
   "id": "0f968d4e-b504-4f9f-9580-31c4b495fb8e",
   "metadata": {},
   "outputs": [
    {
     "name": "stdout",
     "output_type": "stream",
     "text": [
      "[0, 4, 12, 24]\n"
     ]
    }
   ],
   "source": [
    "numbers = [2, 4, 6, 8]\n",
    "result = list(map(lambda pair: pair[0] * pair[1], enumerate(numbers)))\n",
    "print(result)"
   ]
  }
 ],
 "metadata": {
  "kernelspec": {
   "display_name": "Python [conda env:base] *",
   "language": "python",
   "name": "conda-base-py"
  },
  "language_info": {
   "codemirror_mode": {
    "name": "ipython",
    "version": 3
   },
   "file_extension": ".py",
   "mimetype": "text/x-python",
   "name": "python",
   "nbconvert_exporter": "python",
   "pygments_lexer": "ipython3",
   "version": "3.12.7"
  }
 },
 "nbformat": 4,
 "nbformat_minor": 5
}
